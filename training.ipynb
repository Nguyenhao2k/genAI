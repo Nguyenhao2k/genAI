{
 "cells": [
  {
   "cell_type": "code",
   "execution_count": 5,
   "metadata": {},
   "outputs": [
    {
     "name": "stdout",
     "output_type": "stream",
     "text": [
      "(array([1, 2, 2, 2, 2], dtype=int64), array([1, 1, 3, 4, 5], dtype=int64))\n",
      "(array([2], dtype=int64), array([3], dtype=int64))\n"
     ]
    }
   ],
   "source": [
    "import numpy as np\n",
    "\n",
    "arr1 = np.array([[5, 1, 3, 2, 4, 6],\n",
    "       [5, 8, 0, 3, 1, 2],\n",
    "       [3, 10, 6, 21, 15, 11],\n",
    "])\n",
    "\n",
    "print(np.where(arr1 > 7))\n",
    "\n",
    "indices = np.where(arr1 == 21)\n",
    "print(indices)"
   ]
  }
 ],
 "metadata": {
  "kernelspec": {
   "display_name": "pytorch",
   "language": "python",
   "name": "python3"
  },
  "language_info": {
   "codemirror_mode": {
    "name": "ipython",
    "version": 3
   },
   "file_extension": ".py",
   "mimetype": "text/x-python",
   "name": "python",
   "nbconvert_exporter": "python",
   "pygments_lexer": "ipython3",
   "version": "3.8.18"
  }
 },
 "nbformat": 4,
 "nbformat_minor": 2
}
